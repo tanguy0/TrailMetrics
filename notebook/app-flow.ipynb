{
 "cells": [
  {
   "cell_type": "markdown",
   "metadata": {},
   "source": [
    "# Import"
   ]
  },
  {
   "cell_type": "code",
   "execution_count": null,
   "metadata": {},
   "outputs": [],
   "source": [
    "from stravalib import Client"
   ]
  },
  {
   "cell_type": "markdown",
   "metadata": {},
   "source": [
    "# Define"
   ]
  },
  {
   "cell_type": "code",
   "execution_count": null,
   "metadata": {},
   "outputs": [],
   "source": [
    "VERBOSE = True"
   ]
  },
  {
   "cell_type": "markdown",
   "metadata": {},
   "source": [
    "# Activate API (`ONLY RUN THIS SECTION ONCE`)"
   ]
  },
  {
   "cell_type": "code",
   "execution_count": null,
   "metadata": {},
   "outputs": [],
   "source": [
    "client = Client()\n",
    "url = client.authorization_url(\n",
    "    client_id=157889,\n",
    "    redirect_uri=\"http://localhost:5000/authorization\",\n",
    ")\n",
    "\n",
    "if VERBOSE:\n",
    "    print(\"Paste this URL on web browser and copy the string after 'code=...'\")\n",
    "    print(url)"
   ]
  },
  {
   "cell_type": "code",
   "execution_count": null,
   "metadata": {},
   "outputs": [],
   "source": [
    "token_response = client.exchange_code_for_token(\n",
    "    client_id=157889, client_secret=\"c706246b4920e85a8244a26b5e1324d95f787bce\", code=#COPY PASTED CODE HERE\n",
    ")\n",
    "\n",
    "STORED_ACCESS_TOKEN = token_response[\"access_token\"]\n",
    "STORED_REFRESH_TOKEN = token_response[\"refresh_token\"]  # You will need this in 6 hours if you want to stay connected"
   ]
  },
  {
   "cell_type": "markdown",
   "metadata": {},
   "source": [
    "# Download Data"
   ]
  },
  {
   "cell_type": "code",
   "execution_count": null,
   "metadata": {},
   "outputs": [],
   "source": [
    "# Collect all running activity ids\n",
    "client = Client(access_token=STORED_ACCESS_TOKEN)\n",
    "\n",
    "all_activities = client.get_activities()\n",
    "\n",
    "running_activity_ids = []\n",
    "for act in all_activities:\n",
    "    if act.sport_type in [\"Run\", \"TrailRun\"]:\n",
    "        running_activity_ids.append(act.id)"
   ]
  },
  {
   "cell_type": "code",
   "execution_count": null,
   "metadata": {},
   "outputs": [],
   "source": [
    "# Store all running activity streams\n",
    "running_activity_streams = []\n",
    "for activity_id in running_activity_ids[:10]: # TEMPORARY TO GO QUICK\n",
    "    running_activity_streams.append(\n",
    "        client.get_activity_streams(\n",
    "            activity_id, \n",
    "            types=[\n",
    "                \"time\",\n",
    "                \"distance\",\n",
    "                \"latlng\",\n",
    "                \"altitude\",\n",
    "                \"heartrate\"\n",
    "            ],\n",
    "            resolution=\"high\",\n",
    "            series_type=\"distance\",\n",
    "        )\n",
    "    )"
   ]
  },
  {
   "cell_type": "code",
   "execution_count": null,
   "metadata": {},
   "outputs": [],
   "source": [
    "# Work in progres"
   ]
  },
  {
   "cell_type": "markdown",
   "metadata": {},
   "source": [
    "# END OF NOTEBOOK"
   ]
  }
 ],
 "metadata": {
  "kernelspec": {
   "display_name": ".venv",
   "language": "python",
   "name": "python3"
  },
  "language_info": {
   "codemirror_mode": {
    "name": "ipython",
    "version": 3
   },
   "file_extension": ".py",
   "mimetype": "text/x-python",
   "name": "python",
   "nbconvert_exporter": "python",
   "pygments_lexer": "ipython3",
   "version": "3.8.5"
  },
  "orig_nbformat": 4
 },
 "nbformat": 4,
 "nbformat_minor": 2
}
